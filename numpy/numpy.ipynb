{
 "cells": [
  {
   "cell_type": "code",
   "execution_count": 38,
   "id": "3b2556d0",
   "metadata": {},
   "outputs": [
    {
     "name": "stdout",
     "output_type": "stream",
     "text": [
      "[1 2 3 4 5]\n",
      "[[0 1 2 3 4]\n",
      " [0 1 2 3 4]\n",
      " [0 1 2 3 4]]\n",
      "(5,)\n",
      "(3, 5)\n",
      "1\n",
      "2\n",
      "int32\n",
      "int16\n"
     ]
    }
   ],
   "source": [
    "import numpy as np\n",
    "\n",
    "# numpy 1D and 2D array\n",
    "a= np.array([1,2,3,4,5])\n",
    "print(a)\n",
    "\n",
    "b=np.array([[i for i in range(5)] for j in range(3)],dtype=\"int16\")\n",
    "print(b)\n",
    "\n",
    "\n",
    "# shape of array\n",
    "print(a.shape)\n",
    "print(b.shape)\n",
    "\n",
    "# dimension of array\n",
    "print(a.ndim)\n",
    "print(b.ndim)\n",
    "\n",
    "# data type\n",
    "print(a.dtype)\n",
    "print(b.dtype)\n",
    "\n"
   ]
  },
  {
   "cell_type": "code",
   "execution_count": 46,
   "id": "c42ae71e",
   "metadata": {},
   "outputs": [
    {
     "name": "stdout",
     "output_type": "stream",
     "text": [
      "[[0 0 0 0]\n",
      " [0 0 0 0]\n",
      " [0 0 0 0]\n",
      " [0 0 0 0]]\n",
      "int32\n",
      "[[1. 1. 1.]\n",
      " [1. 1. 1.]\n",
      " [1. 1. 1.]]\n",
      "[[4 4]\n",
      " [4 4]]\n",
      "[[1. 0. 0. 0.]\n",
      " [0. 1. 0. 0.]\n",
      " [0. 0. 1. 0.]\n",
      " [0. 0. 0. 1.]]\n",
      "[[0.85549005 0.5740077  0.32063742 0.72968362]\n",
      " [0.58909127 0.75649529 0.28327614 0.52922014]\n",
      " [0.78105681 0.66841074 0.67786919 0.77094131]\n",
      " [0.29622948 0.51234599 0.98549436 0.15655747]]\n"
     ]
    }
   ],
   "source": [
    "# some special array function\n",
    "c= np.zeros([4,4],dtype='int32')\n",
    "print(c)\n",
    "print(c.dtype)\n",
    "\n",
    "d= np.ones([3,3])\n",
    "print(d)\n",
    "\n",
    "e= np.full([2,2],4)\n",
    "print(e)\n",
    "\n",
    "iden = np.eye(4)\n",
    "print(iden)\n",
    "\n",
    "ran= np.random.random([4,4])\n",
    "print(ran)"
   ]
  },
  {
   "cell_type": "code",
   "execution_count": 53,
   "id": "9a4ba3c1",
   "metadata": {},
   "outputs": [
    {
     "name": "stdout",
     "output_type": "stream",
     "text": [
      "[[1 2]\n",
      " [1 2]] (2, 2)\n",
      "[[0 1 2 3 4]] (1, 5)\n",
      "[0 1 2 3 4] (5,)\n"
     ]
    }
   ],
   "source": [
    "# by slicing we do not create new memory\n",
    "b1=b[:2,1:3]\n",
    "print(b1,b1.shape)\n",
    "\n",
    "b2=b[1:2,:]\n",
    "print(b2,b2.shape)\n",
    "\n",
    "b3= b[1,:]\n",
    "print(b3,b3.shape)"
   ]
  },
  {
   "cell_type": "code",
   "execution_count": 66,
   "id": "67a2dd70",
   "metadata": {},
   "outputs": [
    {
     "name": "stdout",
     "output_type": "stream",
     "text": [
      "2\n",
      "[2 4 4]\n"
     ]
    }
   ],
   "source": [
    "# accessing in different ways\n",
    "a1 = np.array([[1,2,4],[2,3,4],[4,4,4]])\n",
    "print(a1[1,0])\n",
    "print(a1[[0,1,2],[1,2,1]])"
   ]
  },
  {
   "cell_type": "code",
   "execution_count": 73,
   "id": "5ed43a84",
   "metadata": {},
   "outputs": [
    {
     "name": "stdout",
     "output_type": "stream",
     "text": [
      "[[ 1  2  3]\n",
      " [ 4  5  6]\n",
      " [ 7  8  9]\n",
      " [10 11 12]]\n",
      "[[11  2 13]\n",
      " [ 4  5  6]\n",
      " [ 7 18  9]\n",
      " [10 11 12]]\n"
     ]
    }
   ],
   "source": [
    "d=np.array([[1,2,3],[4,5,6],[7,8,9],[10,11,12]],dtype='int16')\n",
    "e= np.array([0,2,0])\n",
    "\n",
    "##print(d)\n",
    "##print(e)\n",
    "\n",
    "f=np.arange(3)\n",
    "#print(f)\n",
    "#print(e+f)\n",
    "print(d)\n",
    "d[e,f]+=10\n",
    "#print(d[e,f])\n",
    "print(d)\n",
    "\n"
   ]
  },
  {
   "cell_type": "code",
   "execution_count": 76,
   "id": "531a9bb3",
   "metadata": {},
   "outputs": [
    {
     "name": "stdout",
     "output_type": "stream",
     "text": [
      "[0 1 2 3]\n",
      "[False  True  True  True]\n"
     ]
    }
   ],
   "source": [
    "## boolean indexing\n",
    "k=np.arange(4)\n",
    "print(k)\n",
    "\n",
    "bool_idx=(k>=1)\n",
    "print(bool_idx)"
   ]
  },
  {
   "cell_type": "code",
   "execution_count": 87,
   "id": "31823257",
   "metadata": {},
   "outputs": [
    {
     "name": "stdout",
     "output_type": "stream",
     "text": [
      "[[ 1  4]\n",
      " [ 9 25]]\n",
      "[[ 7 12]\n",
      " [18 31]]\n"
     ]
    }
   ],
   "source": [
    "## math matics on nupmy\n",
    "x=np.array([[1,2,3],[4,5,6],[0,1,1]])\n",
    "y=np.array([[2,3,3],[4,4,4],[3,3,3]])\n",
    "\n",
    "# print(x+y)\n",
    "# print(np.add(x,y))\n",
    "\n",
    "# print(x-y)\n",
    "# print(np.subtract(x,y))\n",
    "\n",
    "# multiplication is elemnte wise\n",
    "x1=np.array([[1,2],[3,5]])\n",
    "y1=np.array([[1,2],[3,5]])\n",
    "print(x1*y1)\n",
    "print(np.dot(x1,y1))\n"
   ]
  },
  {
   "cell_type": "code",
   "execution_count": 92,
   "id": "13a507c6",
   "metadata": {},
   "outputs": [
    {
     "name": "stdout",
     "output_type": "stream",
     "text": [
      "12\n",
      "[5 7]\n",
      "[3 7 2]\n"
     ]
    }
   ],
   "source": [
    "# column wise summation\n",
    "t=np.array([[1,2],[3,4],[1,1]])\n",
    "print(t.sum())# prefix sum\n",
    "print(t.sum(axis=0))## colum wise sum\n",
    "print(t.sum(axis=1)) ## row wise sum\n"
   ]
  },
  {
   "cell_type": "code",
   "execution_count": 94,
   "id": "a72aa8c3",
   "metadata": {},
   "outputs": [
    {
     "name": "stdout",
     "output_type": "stream",
     "text": [
      "[[1 3]\n",
      " [2 4]]\n"
     ]
    }
   ],
   "source": [
    "# transpose of matrix\n",
    "t1=np.array([[1,2],[3,4]])\n",
    "print(t1.T)"
   ]
  },
  {
   "cell_type": "code",
   "execution_count": 105,
   "id": "48a9adf1",
   "metadata": {},
   "outputs": [
    {
     "name": "stdout",
     "output_type": "stream",
     "text": [
      "[[2 4]\n",
      " [4 6]]\n"
     ]
    }
   ],
   "source": [
    "#empty_like() function\n",
    "\n",
    "t2=np.array([[1,2],[2,3],[4,5],[9,0]])\n",
    "v1=[1,2]\n",
    "z1=np.empty_like(t2)\n",
    "\n",
    "# for i in range(4):\n",
    "#     z1[i,:]=t2[i,:]+v1\n",
    "# print(z1)\n",
    "\n",
    "# print(t2+v1)\n",
    "\n",
    "v2=np.array([[1,2],[3,4]])\n",
    "v3=np.array([1,2])\n",
    "print(v2+v3)## broadcasting"
   ]
  },
  {
   "cell_type": "code",
   "execution_count": null,
   "id": "6a55458a",
   "metadata": {},
   "outputs": [],
   "source": []
  }
 ],
 "metadata": {
  "kernelspec": {
   "display_name": "Python 3 (ipykernel)",
   "language": "python",
   "name": "python3"
  },
  "language_info": {
   "codemirror_mode": {
    "name": "ipython",
    "version": 3
   },
   "file_extension": ".py",
   "mimetype": "text/x-python",
   "name": "python",
   "nbconvert_exporter": "python",
   "pygments_lexer": "ipython3",
   "version": "3.8.11"
  }
 },
 "nbformat": 4,
 "nbformat_minor": 5
}
